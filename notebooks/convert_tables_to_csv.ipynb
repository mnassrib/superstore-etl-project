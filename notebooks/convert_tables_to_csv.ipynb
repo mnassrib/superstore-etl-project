{
 "cells": [
  {
   "cell_type": "markdown",
   "id": "f4deb896-d070-4d40-859c-b341bcbbb103",
   "metadata": {},
   "source": [
    "#### Importation des bibliothèques nécessaires :"
   ]
  },
  {
   "cell_type": "code",
   "execution_count": 1,
   "id": "83ac1fb2-6a58-4fa6-b252-9dfd3485047e",
   "metadata": {},
   "outputs": [
    {
     "name": "stdout",
     "output_type": "stream",
     "text": [
      "Requirement already satisfied: pandas in /opt/conda/lib/python3.11/site-packages (2.1.1)\n",
      "Requirement already satisfied: sqlalchemy in /opt/conda/lib/python3.11/site-packages (2.0.22)\n",
      "Collecting psycopg2-binary\n",
      "  Downloading psycopg2_binary-2.9.9-cp311-cp311-manylinux_2_17_x86_64.manylinux2014_x86_64.whl.metadata (4.4 kB)\n",
      "Requirement already satisfied: numpy>=1.23.2 in /opt/conda/lib/python3.11/site-packages (from pandas) (1.24.4)\n",
      "Requirement already satisfied: python-dateutil>=2.8.2 in /opt/conda/lib/python3.11/site-packages (from pandas) (2.8.2)\n",
      "Requirement already satisfied: pytz>=2020.1 in /opt/conda/lib/python3.11/site-packages (from pandas) (2023.3.post1)\n",
      "Requirement already satisfied: tzdata>=2022.1 in /opt/conda/lib/python3.11/site-packages (from pandas) (2023.3)\n",
      "Requirement already satisfied: typing-extensions>=4.2.0 in /opt/conda/lib/python3.11/site-packages (from sqlalchemy) (4.8.0)\n",
      "Requirement already satisfied: greenlet!=0.4.17 in /opt/conda/lib/python3.11/site-packages (from sqlalchemy) (3.0.0)\n",
      "Requirement already satisfied: six>=1.5 in /opt/conda/lib/python3.11/site-packages (from python-dateutil>=2.8.2->pandas) (1.16.0)\n",
      "Downloading psycopg2_binary-2.9.9-cp311-cp311-manylinux_2_17_x86_64.manylinux2014_x86_64.whl (3.0 MB)\n",
      "\u001b[2K   \u001b[90m━━━━━━━━━━━━━━━━━━━━━━━━━━━━━━━━━━━━━━━━\u001b[0m \u001b[32m3.0/3.0 MB\u001b[0m \u001b[31m4.4 MB/s\u001b[0m eta \u001b[36m0:00:00\u001b[0m00:01\u001b[0m00:01\u001b[0m\n",
      "\u001b[?25hInstalling collected packages: psycopg2-binary\n",
      "Successfully installed psycopg2-binary-2.9.9\n"
     ]
    }
   ],
   "source": [
    "!pip install pandas sqlalchemy psycopg2-binary"
   ]
  },
  {
   "cell_type": "code",
   "execution_count": 2,
   "id": "1a77b425-c9a5-4b5a-8d71-d5d5faa532ca",
   "metadata": {},
   "outputs": [],
   "source": [
    "import pandas as pd\n",
    "import os\n",
    "from sqlalchemy import create_engine"
   ]
  },
  {
   "cell_type": "markdown",
   "id": "dc325280-5969-4da7-a98f-69846148a472",
   "metadata": {},
   "source": [
    "#### Configuration de la connexion à la base de données :"
   ]
  },
  {
   "cell_type": "code",
   "execution_count": 3,
   "id": "74db4b4e-d404-492a-82ea-bfa318fb2f64",
   "metadata": {},
   "outputs": [],
   "source": [
    "# Lire les variables d'environnement\n",
    "db_host = os.getenv('DB_HOST')\n",
    "db_name = os.getenv('DB_NAME')\n",
    "db_user = os.getenv('DB_USER')\n",
    "db_password = os.getenv('DB_PASSWORD')\n",
    "\n",
    "connection_string = f'postgresql://{db_user}:{db_password}@{db_host}/{db_name}'\n",
    "engine = create_engine(connection_string)"
   ]
  },
  {
   "cell_type": "markdown",
   "id": "bf9b3d87-3e11-4089-9d1a-3c2e29da2fea",
   "metadata": {},
   "source": [
    "#### Chargement des tables :"
   ]
  },
  {
   "cell_type": "code",
   "execution_count": 4,
   "id": "fe3340a1-1022-4749-8794-dbeb36c2a616",
   "metadata": {},
   "outputs": [],
   "source": [
    "orders = pd.read_sql('SELECT * FROM orders', engine)\n",
    "customers = pd.read_sql('SELECT * FROM customers', engine)\n",
    "products = pd.read_sql('SELECT * FROM product', engine)\n",
    "sales_team = pd.read_sql('SELECT * FROM sales_team', engine)\n",
    "locations = pd.read_sql('SELECT * FROM location', engine)"
   ]
  },
  {
   "cell_type": "markdown",
   "id": "16a824d0-7ed3-4c46-baa5-0b4d1ca02d65",
   "metadata": {},
   "source": [
    "#### Sauvegarde les tables de données dans des fichiers CSV :"
   ]
  },
  {
   "cell_type": "code",
   "execution_count": 5,
   "id": "c46ef2dd-eaf5-42eb-a995-eac30b3552a7",
   "metadata": {},
   "outputs": [],
   "source": [
    "orders.to_csv('data/orders.csv', index=False)\n",
    "customers.to_csv('data/customers.csv', index=False)\n",
    "products.to_csv('data/products.csv', index=False)\n",
    "sales_team.to_csv('data/sales_team.csv', index=False)\n",
    "locations.to_csv('data/locations.csv', index=False)"
   ]
  }
 ],
 "metadata": {
  "kernelspec": {
   "display_name": "Python 3 (ipykernel)",
   "language": "python",
   "name": "python3"
  },
  "language_info": {
   "codemirror_mode": {
    "name": "ipython",
    "version": 3
   },
   "file_extension": ".py",
   "mimetype": "text/x-python",
   "name": "python",
   "nbconvert_exporter": "python",
   "pygments_lexer": "ipython3",
   "version": "3.11.6"
  }
 },
 "nbformat": 4,
 "nbformat_minor": 5
}
