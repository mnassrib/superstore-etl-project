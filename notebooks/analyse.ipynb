{
 "cells": [
  {
   "cell_type": "markdown",
   "id": "4eaa03f2-3da8-4d82-be57-b6824760b586",
   "metadata": {},
   "source": [
    "#### Installation des bibliothèques nécessaires\r\n",
    "Assurez-vous que les bibliothèques nécessaires sont installées dans votre environnement Jupyter Notebook. Vous pouvez les installer avec pip si elles ne le sont pas déjà :"
   ]
  },
  {
   "cell_type": "code",
   "execution_count": 2,
   "id": "568bb4ee-b87c-4efa-8c2c-6c5031b86a8a",
   "metadata": {},
   "outputs": [
    {
     "name": "stdout",
     "output_type": "stream",
     "text": [
      "Requirement already satisfied: pandas in /opt/conda/lib/python3.11/site-packages (2.1.1)\n",
      "Requirement already satisfied: sqlalchemy in /opt/conda/lib/python3.11/site-packages (2.0.22)\n",
      "Collecting psycopg2-binary\n",
      "  Downloading psycopg2_binary-2.9.9-cp311-cp311-manylinux_2_17_x86_64.manylinux2014_x86_64.whl.metadata (4.4 kB)\n",
      "Requirement already satisfied: matplotlib in /opt/conda/lib/python3.11/site-packages (3.8.0)\n",
      "Requirement already satisfied: seaborn in /opt/conda/lib/python3.11/site-packages (0.13.0)\n",
      "Requirement already satisfied: numpy>=1.23.2 in /opt/conda/lib/python3.11/site-packages (from pandas) (1.24.4)\n",
      "Requirement already satisfied: python-dateutil>=2.8.2 in /opt/conda/lib/python3.11/site-packages (from pandas) (2.8.2)\n",
      "Requirement already satisfied: pytz>=2020.1 in /opt/conda/lib/python3.11/site-packages (from pandas) (2023.3.post1)\n",
      "Requirement already satisfied: tzdata>=2022.1 in /opt/conda/lib/python3.11/site-packages (from pandas) (2023.3)\n",
      "Requirement already satisfied: typing-extensions>=4.2.0 in /opt/conda/lib/python3.11/site-packages (from sqlalchemy) (4.8.0)\n",
      "Requirement already satisfied: greenlet!=0.4.17 in /opt/conda/lib/python3.11/site-packages (from sqlalchemy) (3.0.0)\n",
      "Requirement already satisfied: contourpy>=1.0.1 in /opt/conda/lib/python3.11/site-packages (from matplotlib) (1.1.1)\n",
      "Requirement already satisfied: cycler>=0.10 in /opt/conda/lib/python3.11/site-packages (from matplotlib) (0.12.1)\n",
      "Requirement already satisfied: fonttools>=4.22.0 in /opt/conda/lib/python3.11/site-packages (from matplotlib) (4.43.1)\n",
      "Requirement already satisfied: kiwisolver>=1.0.1 in /opt/conda/lib/python3.11/site-packages (from matplotlib) (1.4.5)\n",
      "Requirement already satisfied: packaging>=20.0 in /opt/conda/lib/python3.11/site-packages (from matplotlib) (23.2)\n",
      "Requirement already satisfied: pillow>=6.2.0 in /opt/conda/lib/python3.11/site-packages (from matplotlib) (10.1.0)\n",
      "Requirement already satisfied: pyparsing>=2.3.1 in /opt/conda/lib/python3.11/site-packages (from matplotlib) (3.1.1)\n",
      "Requirement already satisfied: six>=1.5 in /opt/conda/lib/python3.11/site-packages (from python-dateutil>=2.8.2->pandas) (1.16.0)\n",
      "Downloading psycopg2_binary-2.9.9-cp311-cp311-manylinux_2_17_x86_64.manylinux2014_x86_64.whl (3.0 MB)\n",
      "\u001b[2K   \u001b[90m━━━━━━━━━━━━━━━━━━━━━━━━━━━━━━━━━━━━━━━━\u001b[0m \u001b[32m3.0/3.0 MB\u001b[0m \u001b[31m8.0 MB/s\u001b[0m eta \u001b[36m0:00:00\u001b[0m:00:01\u001b[0m00:01\u001b[0m\n",
      "\u001b[?25hInstalling collected packages: psycopg2-binary\n",
      "Successfully installed psycopg2-binary-2.9.9\n"
     ]
    }
   ],
   "source": [
    "!pip install pandas sqlalchemy psycopg2-binary matplotlib seaborn"
   ]
  },
  {
   "cell_type": "markdown",
   "id": "ab6a1386-bc11-493d-843c-19fc9484abb6",
   "metadata": {},
   "source": [
    "#### Configuration de la connexion à PostgreSQL\r\n",
    "Configurez la connexion à votre base de données PostgreSQL en utilisant sqlalchemy :"
   ]
  },
  {
   "cell_type": "code",
   "execution_count": 1,
   "id": "eaf875a4-ba95-4712-b99a-44b83ff1580b",
   "metadata": {},
   "outputs": [
    {
     "ename": "ModuleNotFoundError",
     "evalue": "No module named 'psycopg2'",
     "output_type": "error",
     "traceback": [
      "\u001b[0;31m---------------------------------------------------------------------------\u001b[0m",
      "\u001b[0;31mModuleNotFoundError\u001b[0m                       Traceback (most recent call last)",
      "Cell \u001b[0;32mIn[1], line 12\u001b[0m\n\u001b[1;32m     10\u001b[0m \u001b[38;5;66;03m# Créer l'URL de connexion\u001b[39;00m\n\u001b[1;32m     11\u001b[0m connection_string \u001b[38;5;241m=\u001b[39m \u001b[38;5;124mf\u001b[39m\u001b[38;5;124m'\u001b[39m\u001b[38;5;124mpostgresql://\u001b[39m\u001b[38;5;132;01m{\u001b[39;00mdb_user\u001b[38;5;132;01m}\u001b[39;00m\u001b[38;5;124m:\u001b[39m\u001b[38;5;132;01m{\u001b[39;00mdb_password\u001b[38;5;132;01m}\u001b[39;00m\u001b[38;5;124m@\u001b[39m\u001b[38;5;132;01m{\u001b[39;00mdb_host\u001b[38;5;132;01m}\u001b[39;00m\u001b[38;5;124m/\u001b[39m\u001b[38;5;132;01m{\u001b[39;00mdb_name\u001b[38;5;132;01m}\u001b[39;00m\u001b[38;5;124m'\u001b[39m\n\u001b[0;32m---> 12\u001b[0m engine \u001b[38;5;241m=\u001b[39m \u001b[43mcreate_engine\u001b[49m\u001b[43m(\u001b[49m\u001b[43mconnection_string\u001b[49m\u001b[43m)\u001b[49m\n",
      "File \u001b[0;32m<string>:2\u001b[0m, in \u001b[0;36mcreate_engine\u001b[0;34m(url, **kwargs)\u001b[0m\n",
      "File \u001b[0;32m/opt/conda/lib/python3.11/site-packages/sqlalchemy/util/deprecations.py:281\u001b[0m, in \u001b[0;36mdeprecated_params.<locals>.decorate.<locals>.warned\u001b[0;34m(fn, *args, **kwargs)\u001b[0m\n\u001b[1;32m    274\u001b[0m     \u001b[38;5;28;01mif\u001b[39;00m m \u001b[38;5;129;01min\u001b[39;00m kwargs:\n\u001b[1;32m    275\u001b[0m         _warn_with_version(\n\u001b[1;32m    276\u001b[0m             messages[m],\n\u001b[1;32m    277\u001b[0m             versions[m],\n\u001b[1;32m    278\u001b[0m             version_warnings[m],\n\u001b[1;32m    279\u001b[0m             stacklevel\u001b[38;5;241m=\u001b[39m\u001b[38;5;241m3\u001b[39m,\n\u001b[1;32m    280\u001b[0m         )\n\u001b[0;32m--> 281\u001b[0m \u001b[38;5;28;01mreturn\u001b[39;00m \u001b[43mfn\u001b[49m\u001b[43m(\u001b[49m\u001b[38;5;241;43m*\u001b[39;49m\u001b[43margs\u001b[49m\u001b[43m,\u001b[49m\u001b[43m \u001b[49m\u001b[38;5;241;43m*\u001b[39;49m\u001b[38;5;241;43m*\u001b[39;49m\u001b[43mkwargs\u001b[49m\u001b[43m)\u001b[49m\n",
      "File \u001b[0;32m/opt/conda/lib/python3.11/site-packages/sqlalchemy/engine/create.py:601\u001b[0m, in \u001b[0;36mcreate_engine\u001b[0;34m(url, **kwargs)\u001b[0m\n\u001b[1;32m    599\u001b[0m         \u001b[38;5;28;01mif\u001b[39;00m k \u001b[38;5;129;01min\u001b[39;00m kwargs:\n\u001b[1;32m    600\u001b[0m             dbapi_args[k] \u001b[38;5;241m=\u001b[39m pop_kwarg(k)\n\u001b[0;32m--> 601\u001b[0m     dbapi \u001b[38;5;241m=\u001b[39m \u001b[43mdbapi_meth\u001b[49m\u001b[43m(\u001b[49m\u001b[38;5;241;43m*\u001b[39;49m\u001b[38;5;241;43m*\u001b[39;49m\u001b[43mdbapi_args\u001b[49m\u001b[43m)\u001b[49m\n\u001b[1;32m    603\u001b[0m dialect_args[\u001b[38;5;124m\"\u001b[39m\u001b[38;5;124mdbapi\u001b[39m\u001b[38;5;124m\"\u001b[39m] \u001b[38;5;241m=\u001b[39m dbapi\n\u001b[1;32m    605\u001b[0m dialect_args\u001b[38;5;241m.\u001b[39msetdefault(\u001b[38;5;124m\"\u001b[39m\u001b[38;5;124mcompiler_linting\u001b[39m\u001b[38;5;124m\"\u001b[39m, compiler\u001b[38;5;241m.\u001b[39mNO_LINTING)\n",
      "File \u001b[0;32m/opt/conda/lib/python3.11/site-packages/sqlalchemy/dialects/postgresql/psycopg2.py:690\u001b[0m, in \u001b[0;36mPGDialect_psycopg2.import_dbapi\u001b[0;34m(cls)\u001b[0m\n\u001b[1;32m    688\u001b[0m \u001b[38;5;129m@classmethod\u001b[39m\n\u001b[1;32m    689\u001b[0m \u001b[38;5;28;01mdef\u001b[39;00m \u001b[38;5;21mimport_dbapi\u001b[39m(\u001b[38;5;28mcls\u001b[39m):\n\u001b[0;32m--> 690\u001b[0m     \u001b[38;5;28;01mimport\u001b[39;00m \u001b[38;5;21;01mpsycopg2\u001b[39;00m\n\u001b[1;32m    692\u001b[0m     \u001b[38;5;28;01mreturn\u001b[39;00m psycopg2\n",
      "\u001b[0;31mModuleNotFoundError\u001b[0m: No module named 'psycopg2'"
     ]
    }
   ],
   "source": [
    "import pandas as pd\n",
    "from sqlalchemy import create_engine\n",
    "\n",
    "# Informations de connexion\n",
    "db_host = 'db'\n",
    "db_name = 'SuperStoreDB'\n",
    "db_user = 'postgres'\n",
    "db_password = 'postgres'\n",
    "\n",
    "# Créer l'URL de connexion\n",
    "connection_string = f'postgresql://{db_user}:{db_password}@{db_host}/{db_name}'\n",
    "engine = create_engine(connection_string)"
   ]
  },
  {
   "cell_type": "markdown",
   "id": "7e03671d-c223-44a8-834c-0b67ab0b54ae",
   "metadata": {},
   "source": [
    "#### Extraction des données\r\n",
    "Vous pouvez maintenant extraire les données des différentes tables :"
   ]
  },
  {
   "cell_type": "code",
   "execution_count": 3,
   "id": "a36e5bd5-bf00-4b5c-a627-2e46f50340c5",
   "metadata": {},
   "outputs": [
    {
     "name": "stdout",
     "output_type": "stream",
     "text": [
      "         order_id  order_date   ship_date       ship_mode customer_id  \\\n",
      "0  CA-2016-152156  2016-11-08  2016-11-11    Second Class    CG-12520   \n",
      "1  CA-2016-152156  2016-11-08  2016-11-11    Second Class    CG-12520   \n",
      "2  CA-2016-138688  2016-06-12  2016-06-16    Second Class    DV-13045   \n",
      "3  US-2015-108966  2015-10-11  2015-10-18  Standard Class    SO-20335   \n",
      "4  US-2015-108966  2015-10-11  2015-10-18  Standard Class    SO-20335   \n",
      "\n",
      "      sales_rep            location_id       product_id   sales  quantity  \\\n",
      "0       Organic        42420,Henderson  FUR-BO-10001798  261.96         2   \n",
      "1       Organic        42420,Henderson  FUR-CH-10000454  731.94         3   \n",
      "2  Steve Pepple      90036,Los Angeles  OFF-LA-10000240   14.62         2   \n",
      "3       Organic  33311,Fort Lauderdale  FUR-TA-10000577  957.58         5   \n",
      "4       Organic  33311,Fort Lauderdale  OFF-ST-10000760   22.37         2   \n",
      "\n",
      "   discount  profit  order_serial_id  \n",
      "0      0.00   41.91                1  \n",
      "1      0.00  219.58                2  \n",
      "2      0.00    6.87                3  \n",
      "3      0.45 -383.03                4  \n",
      "4      0.20    2.52                5  \n",
      "  customer_id     customer_name      segment\n",
      "0    CD-12280  Christina DeMoss     Consumer\n",
      "1    BD-11320    Bill Donatelli     Consumer\n",
      "2    AG-10390    Allen Goldenen     Consumer\n",
      "3    JC-15775      John Castell     Consumer\n",
      "4    DR-12940     Daniel Raglin  Home Office\n",
      "        product_id                                       product_name  \\\n",
      "0  OFF-ST-10002214                    X-Rack File for Hanging Folders   \n",
      "1  TEC-PH-10001300  iKross Bluetooth Portable Keyboard + Cell Phon...   \n",
      "2  FUR-BO-10000330  Sauder Camden County Barrister Bookcase, Plank...   \n",
      "3  FUR-FU-10000732                   Eldon 200 Class Desk Accessories   \n",
      "4  OFF-AP-10000938                    Avanti 1.7 Cu. Ft. Refrigerator   \n",
      "\n",
      "          category sub_category  \n",
      "0  Office Supplies      Storage  \n",
      "1       Technology       Phones  \n",
      "2        Furniture    Bookcases  \n",
      "3        Furniture  Furnishings  \n",
      "4  Office Supplies   Appliances  \n",
      "      sales_rep sales_team sales_team_manager\n",
      "0       Organic    Organic            Organic\n",
      "1       Anne Wu      Delta      Britanny Bold\n",
      "2  Mary Gerrard      Delta      Britanny Bold\n",
      "3   Erica Jones       Alfa     James Goodwill\n",
      "4    Jimmy Grey    Charlie    Alisha Cordwell\n",
      "         location_id         city        state postal_code   region\n",
      "0  32303,Tallahassee  Tallahassee      Florida       32303    South\n",
      "1  84084,West Jordan  West Jordan         Utah       84084     West\n",
      "2    78550,Harlingen    Harlingen        Texas       78550  Central\n",
      "3       6010,Bristol      Bristol  Connecticut       6010      East\n",
      "4   92627,Costa Mesa   Costa Mesa   California       92627     West\n"
     ]
    }
   ],
   "source": [
    "# Extraction des données des tables\n",
    "orders = pd.read_sql('SELECT * FROM orders', engine)\n",
    "customers = pd.read_sql('SELECT * FROM customers', engine)\n",
    "products = pd.read_sql('SELECT * FROM product', engine)\n",
    "sales_team = pd.read_sql('SELECT * FROM sales_team', engine)\n",
    "locations = pd.read_sql('SELECT * FROM location', engine)\n",
    "\n",
    "# Affichage des premières lignes des tables\n",
    "print(orders.head())\n",
    "print(customers.head())\n",
    "print(products.head())\n",
    "print(sales_team.head())\n",
    "print(locations.head())"
   ]
  },
  {
   "cell_type": "markdown",
   "id": "357d7e6e-8bf2-4d21-9165-1f9fa98d2d60",
   "metadata": {},
   "source": [
    "#### Analyses de base\r\n",
    "1. Analyse des ventes par région"
   ]
  },
  {
   "cell_type": "code",
   "execution_count": 4,
   "id": "da563017-8bf0-4ef2-bd76-d019a3269b2a",
   "metadata": {},
   "outputs": [
    {
     "name": "stdout",
     "output_type": "stream",
     "text": [
      "    region      sales\n",
      "0  Central  501239.88\n",
      "1     East  678781.36\n",
      "2    South  391721.90\n",
      "3     West  725457.93\n"
     ]
    }
   ],
   "source": [
    "# Jointure des tables orders et locations\n",
    "orders_locations = orders.merge(locations, on='location_id', how='left')\n",
    "\n",
    "# Ventes par région\n",
    "sales_by_region = orders_locations.groupby('region')['sales'].sum().reset_index()\n",
    "\n",
    "# Affichage des ventes par région\n",
    "print(sales_by_region)"
   ]
  },
  {
   "cell_type": "markdown",
   "id": "1729470e-f58b-4823-8ac7-bc9746a7a5bf",
   "metadata": {},
   "source": [
    "2. Analyse des clients par catégorie"
   ]
  },
  {
   "cell_type": "code",
   "execution_count": 5,
   "id": "5b20c317-248b-484b-a5b8-772b613ce092",
   "metadata": {},
   "outputs": [
    {
     "data": {
      "text/html": [
       "<div>\n",
       "<style scoped>\n",
       "    .dataframe tbody tr th:only-of-type {\n",
       "        vertical-align: middle;\n",
       "    }\n",
       "\n",
       "    .dataframe tbody tr th {\n",
       "        vertical-align: top;\n",
       "    }\n",
       "\n",
       "    .dataframe thead th {\n",
       "        text-align: right;\n",
       "    }\n",
       "</style>\n",
       "<table border=\"1\" class=\"dataframe\">\n",
       "  <thead>\n",
       "    <tr style=\"text-align: right;\">\n",
       "      <th></th>\n",
       "      <th>customer_name</th>\n",
       "      <th>total_sales</th>\n",
       "      <th>customer_category</th>\n",
       "    </tr>\n",
       "  </thead>\n",
       "  <tbody>\n",
       "    <tr>\n",
       "      <th>0</th>\n",
       "      <td>Sean Miller</td>\n",
       "      <td>146749.82</td>\n",
       "      <td>Diamond Customer</td>\n",
       "    </tr>\n",
       "    <tr>\n",
       "      <th>1</th>\n",
       "      <td>Adrian Barton</td>\n",
       "      <td>143857.72</td>\n",
       "      <td>Diamond Customer</td>\n",
       "    </tr>\n",
       "    <tr>\n",
       "      <th>2</th>\n",
       "      <td>Tamara Chand</td>\n",
       "      <td>92602.58</td>\n",
       "      <td>Diamond Customer</td>\n",
       "    </tr>\n",
       "    <tr>\n",
       "      <th>3</th>\n",
       "      <td>Becky Martin</td>\n",
       "      <td>88175.27</td>\n",
       "      <td>Diamond Customer</td>\n",
       "    </tr>\n",
       "    <tr>\n",
       "      <th>4</th>\n",
       "      <td>Joseph Holt</td>\n",
       "      <td>80519.96</td>\n",
       "      <td>Diamond Customer</td>\n",
       "    </tr>\n",
       "  </tbody>\n",
       "</table>\n",
       "</div>"
      ],
      "text/plain": [
       "   customer_name  total_sales customer_category\n",
       "0    Sean Miller    146749.82  Diamond Customer\n",
       "1  Adrian Barton    143857.72  Diamond Customer\n",
       "2   Tamara Chand     92602.58  Diamond Customer\n",
       "3   Becky Martin     88175.27  Diamond Customer\n",
       "4    Joseph Holt     80519.96  Diamond Customer"
      ]
     },
     "execution_count": 5,
     "metadata": {},
     "output_type": "execute_result"
    }
   ],
   "source": [
    "# Jointure des tables orders et customers\n",
    "orders_customers = orders.merge(customers, on='customer_id', how='left')\n",
    "\n",
    "# Ventes par catégorie de client (utilisant le produit de sales et quantity)\n",
    "sales_by_customer_category = orders_customers.groupby('customer_name').apply(lambda x: (x['sales'] * x['quantity']).sum()).reset_index(name='total_sales')\n",
    "\n",
    "# Classification des clients par montant dépensé\n",
    "def classify_customer(amount):\n",
    "    if amount < 5000:\n",
    "        return 'Silver Customer'\n",
    "    elif amount <= 10000:\n",
    "        return 'Gold Customer'\n",
    "    else:\n",
    "        return 'Diamond Customer'\n",
    "\n",
    "sales_by_customer_category['customer_category'] = sales_by_customer_category['total_sales'].apply(classify_customer)\n",
    "\n",
    "# Affichage des clients par catégorie dans l'ordre décroissant selon le montant des ventes totales\n",
    "sales_by_customer_category = sales_by_customer_category.sort_values(by='total_sales', ascending=False).reset_index(drop=True)\n",
    "\n",
    "sales_by_customer_category.head()"
   ]
  },
  {
   "cell_type": "code",
   "execution_count": 6,
   "id": "0517a6d9-d0e9-48d2-9dc7-38428ed2398b",
   "metadata": {},
   "outputs": [
    {
     "data": {
      "text/html": [
       "<div>\n",
       "<style scoped>\n",
       "    .dataframe tbody tr th:only-of-type {\n",
       "        vertical-align: middle;\n",
       "    }\n",
       "\n",
       "    .dataframe tbody tr th {\n",
       "        vertical-align: top;\n",
       "    }\n",
       "\n",
       "    .dataframe thead th {\n",
       "        text-align: right;\n",
       "    }\n",
       "</style>\n",
       "<table border=\"1\" class=\"dataframe\">\n",
       "  <thead>\n",
       "    <tr style=\"text-align: right;\">\n",
       "      <th></th>\n",
       "      <th>customer_name</th>\n",
       "      <th>amount_spent</th>\n",
       "      <th>customer_category</th>\n",
       "    </tr>\n",
       "  </thead>\n",
       "  <tbody>\n",
       "    <tr>\n",
       "      <th>0</th>\n",
       "      <td>Sean Miller</td>\n",
       "      <td>146749.82</td>\n",
       "      <td>Diamond Customer</td>\n",
       "    </tr>\n",
       "    <tr>\n",
       "      <th>1</th>\n",
       "      <td>Adrian Barton</td>\n",
       "      <td>143857.72</td>\n",
       "      <td>Diamond Customer</td>\n",
       "    </tr>\n",
       "    <tr>\n",
       "      <th>2</th>\n",
       "      <td>Tamara Chand</td>\n",
       "      <td>92602.58</td>\n",
       "      <td>Diamond Customer</td>\n",
       "    </tr>\n",
       "    <tr>\n",
       "      <th>3</th>\n",
       "      <td>Becky Martin</td>\n",
       "      <td>88175.27</td>\n",
       "      <td>Diamond Customer</td>\n",
       "    </tr>\n",
       "    <tr>\n",
       "      <th>4</th>\n",
       "      <td>Joseph Holt</td>\n",
       "      <td>80519.96</td>\n",
       "      <td>Diamond Customer</td>\n",
       "    </tr>\n",
       "  </tbody>\n",
       "</table>\n",
       "</div>"
      ],
      "text/plain": [
       "   customer_name  amount_spent customer_category\n",
       "0    Sean Miller     146749.82  Diamond Customer\n",
       "1  Adrian Barton     143857.72  Diamond Customer\n",
       "2   Tamara Chand      92602.58  Diamond Customer\n",
       "3   Becky Martin      88175.27  Diamond Customer\n",
       "4    Joseph Holt      80519.96  Diamond Customer"
      ]
     },
     "execution_count": 6,
     "metadata": {},
     "output_type": "execute_result"
    }
   ],
   "source": [
    "view = pd.read_sql('SELECT * FROM customer_category', engine)\n",
    "view.head()"
   ]
  },
  {
   "cell_type": "markdown",
   "id": "ccf2b989-5320-4cd7-b7c2-55781697308a",
   "metadata": {},
   "source": [
    "#### Visualisations\r\n",
    "1. Visualisation des ventes par région"
   ]
  },
  {
   "cell_type": "code",
   "execution_count": 7,
   "id": "ac9ee063-a261-4291-b9cd-f1c515a33614",
   "metadata": {},
   "outputs": [
    {
     "data": {
      "image/png": "[encoded data removed]",
      "text/plain": [
       "<Figure size 1000x600 with 1 Axes>"
      ]
     },
     "metadata": {},
     "output_type": "display_data"
    }
   ],
   "source": [
    "import matplotlib.pyplot as plt\n",
    "import seaborn as sns\n",
    "\n",
    "# Configuration de la visualisation\n",
    "plt.figure(figsize=(10, 6))\n",
    "sns.barplot(data=sales_by_region, x='region', y='sales')\n",
    "plt.title('Ventes par région')\n",
    "plt.xlabel('Région')\n",
    "plt.ylabel('Ventes')\n",
    "plt.xticks(rotation=45)\n",
    "plt.show()"
   ]
  },
  {
   "cell_type": "markdown",
   "id": "1e141c08-80c8-4721-a926-9a8cc11e325a",
   "metadata": {},
   "source": [
    "2. Visualisation des catégories de clients"
   ]
  },
  {
   "cell_type": "code",
   "execution_count": 17,
   "id": "91fe5d37-47d0-4c90-8f61-1db050a1e9b6",
   "metadata": {},
   "outputs": [
    {
     "data": {
      "image/png": "[encoded data removed]",
      "text/plain": [
       "<Figure size 1000x600 with 1 Axes>"
      ]
     },
     "metadata": {},
     "output_type": "display_data"
    }
   ],
   "source": [
    "# Compte des clients par catégorie\n",
    "customer_category_counts = sales_by_customer_category['customer_category'].value_counts().reset_index()\n",
    "\n",
    "# Configuration de la visualisation\n",
    "plt.figure(figsize=(10, 6))\n",
    "sns.barplot(data=customer_category_counts, x='customer_category', y='count')\n",
    "plt.title('Nombre de clients par catégorie')\n",
    "plt.xlabel('Catégorie de client')\n",
    "plt.ylabel('Nombre de clients')\n",
    "plt.xticks(rotation=45)\n",
    "plt.show()"
   ]
  }
 ],
 "metadata": {
  "kernelspec": {
   "display_name": "Python 3 (ipykernel)",
   "language": "python",
   "name": "python3"
  },
  "language_info": {
   "codemirror_mode": {
    "name": "ipython",
    "version": 3
   },
   "file_extension": ".py",
   "mimetype": "text/x-python",
   "name": "python",
   "nbconvert_exporter": "python",
   "pygments_lexer": "ipython3",
   "version": "3.11.6"
  }
 },
 "nbformat": 4,
 "nbformat_minor": 5
}
