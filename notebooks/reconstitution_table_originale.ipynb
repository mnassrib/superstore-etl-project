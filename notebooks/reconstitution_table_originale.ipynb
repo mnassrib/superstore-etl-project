{
 "cells": [
  {
   "cell_type": "markdown",
   "metadata": {},
   "source": [
    "#### Importation des bibliothèques nécessaires :"
   ]
  },
  {
   "cell_type": "code",
   "execution_count": 1,
   "metadata": {},
   "outputs": [],
   "source": [
    "import pandas as pd\n",
    "import os\n",
    "from sqlalchemy import create_engine"
   ]
  },
  {
   "cell_type": "markdown",
   "metadata": {},
   "source": [
    "#### Configuration de la connexion à la base de données :"
   ]
  },
  {
   "cell_type": "code",
   "execution_count": 2,
   "metadata": {},
   "outputs": [],
   "source": [
    "# Lire les variables d'environnement\n",
    "db_host = os.getenv('DB_HOST')\n",
    "db_name = os.getenv('DB_NAME')\n",
    "db_user = os.getenv('DB_USER')\n",
    "db_password = os.getenv('DB_PASSWORD')\n",
    "\n",
    "connection_string = f'postgresql://{db_user}:{db_password}@{db_host}/{db_name}'\n",
    "engine = create_engine(connection_string)"
   ]
  },
  {
   "cell_type": "markdown",
   "metadata": {},
   "source": [
    "#### Chargement des tables :"
   ]
  },
  {
   "cell_type": "code",
   "execution_count": 3,
   "metadata": {},
   "outputs": [],
   "source": [
    "orders = pd.read_sql('SELECT * FROM orders', engine)\n",
    "# Supprimer la colonne 'order_serial_id'\n",
    "orders = orders.drop(columns=['order_serial_id'])\n",
    "\n",
    "customers = pd.read_sql('SELECT * FROM customers', engine)\n",
    "products = pd.read_sql('SELECT * FROM product', engine)\n",
    "sales_team = pd.read_sql('SELECT * FROM sales_team', engine)\n",
    "locations = pd.read_sql('SELECT * FROM location', engine)"
   ]
  },
  {
   "cell_type": "markdown",
   "metadata": {},
   "source": [
    "#### Jointure des tables :"
   ]
  },
  {
   "cell_type": "code",
   "execution_count": 4,
   "metadata": {},
   "outputs": [],
   "source": [
    "# Jointure de orders avec customers\n",
    "orders_customers = orders.merge(customers, on='customer_id', how='left')\n",
    "\n",
    "# Jointure de orders_customers avec product\n",
    "orders_customers_products = orders_customers.merge(products, on='product_id', how='left')\n",
    "\n",
    "# Jointure de orders_customers_products avec sales_team\n",
    "orders_customers_products_sales = orders_customers_products.merge(sales_team, on='sales_rep', how='left')\n",
    "\n",
    "# Jointure de orders_customers_products_sales avec location\n",
    "complete_data = orders_customers_products_sales.merge(locations, on='location_id', how='left')"
   ]
  },
  {
   "cell_type": "markdown",
   "metadata": {},
   "source": [
    "#### Sauvegarde des données reconstituées dans un fichier CSV :"
   ]
  },
  {
   "cell_type": "code",
   "execution_count": 5,
   "metadata": {},
   "outputs": [],
   "source": [
    "complete_data.to_csv('data/reconstructed_SuperStoreData.csv', index=False)"
   ]
  }
 ],
 "metadata": {
  "kernelspec": {
   "display_name": "Python 3 (ipykernel)",
   "language": "python",
   "name": "python3"
  },
  "language_info": {
   "codemirror_mode": {
    "name": "ipython",
    "version": 3
   },
   "file_extension": ".py",
   "mimetype": "text/x-python",
   "name": "python",
   "nbconvert_exporter": "python",
   "pygments_lexer": "ipython3",
   "version": "3.11.6"
  }
 },
 "nbformat": 4,
 "nbformat_minor": 4
}
